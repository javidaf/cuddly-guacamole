{
 "cells": [
  {
   "cell_type": "code",
   "execution_count": null,
   "metadata": {},
   "outputs": [],
   "source": []
  },
  {
   "cell_type": "markdown",
   "metadata": {},
   "source": [
    "## Part D) Variance and Expectation of $\\hat{\\beta}$"
   ]
  },
  {
   "cell_type": "markdown",
   "metadata": {},
   "source": [
    "**Q**: Show that $E[\\vec{\\hat{\\beta}}] = \\vec{\\beta}$\n",
    "\n",
    "**A**:\n",
    "\n",
    "We know that $\\vec{\\hat{\\beta}} = (\\mathbf{X}^T\\mathbf{X})^{-1}\\mathbf{X}^T\\vec{y}$ and that $\\vec{y} = \\mathbf{X}\\vec{\\beta} + \\vec{\\epsilon}$\n",
    "\n",
    "$$E[\\vec{\\hat{\\beta}}] = E[(\\mathbf{X}^T\\mathbf{X})^{-1}\\mathbf{X}^T\\vec{y}]$$\n",
    "\n",
    "$$= E[(\\mathbf{X}^T\\mathbf{X})^{-1}\\mathbf{X}^T(\\mathbf{X}\\vec{\\beta} + \\vec{\\epsilon})]$$\n",
    "\n",
    "$$= E[(\\mathbf{X}^T\\mathbf{X})^{-1}\\mathbf{X}^T\\mathbf{X}\\vec{\\beta} + (\\mathbf{X}^T\\mathbf{X})^{-1}\\mathbf{X}^T\\vec{\\epsilon}]$$\n",
    "\n",
    "$$= E[(\\mathbf{X}^T\\mathbf{X})^{-1}\\mathbf{X}^T\\mathbf{X}\\vec{\\beta}] + E[(\\mathbf{X}^T\\mathbf{X})^{-1}\\mathbf{X}^T\\vec{\\epsilon}]$$\n",
    "\n",
    "$$= E[(\\mathbf{X}^T\\mathbf{X})^{-1}\\mathbf{X}^T\\vec{\\epsilon}] = 0$$ \n",
    "since $\\vec{\\epsilon}$ is a normal distributed error with mean 0.\n",
    "\n",
    "Thus:\n",
    "\n",
    "$$E[\\vec{\\hat{\\beta}}] = E[(\\mathbf{X}^T\\mathbf{X})^{-1}\\mathbf{X}^T\\mathbf{X}\\vec{\\beta}] = \\vec{\\beta}, \\square$$\n",
    "\n",
    "---\n",
    "\n",
    "**Q**: Show that the variance of $\\vec{\\hat{\\beta}}$ is given by:\n",
    "\n",
    "$$Var[\\vec{\\hat{\\beta}}] = \\sigma^2 (\\mathbf{X}^T\\mathbf{X})^{-1}$$\n",
    "\n",
    "**A**:\n",
    "\n",
    "$$Var[\\vec{\\hat{\\beta}}] = Var[(\\mathbf{X}^T\\mathbf{X})^{-1}\\mathbf{X}^T\\vec{y}]$$\n",
    "\n",
    "$$= Var[(\\mathbf{X}^T\\mathbf{X})^{-1}\\mathbf{X}^T(\\mathbf{X}\\vec{\\beta} + \\vec{\\epsilon})]$$\n",
    "\n",
    "$$= Var[(\\mathbf{X}^T\\mathbf{X})^{-1}\\mathbf{X}^T\\mathbf{X}\\vec{\\beta} + (\\mathbf{X}^T\\mathbf{X})^{-1}\\mathbf{X}^T\\vec{\\epsilon}]$$\n",
    "\n",
    "$$= Var[(\\mathbf{X}^T\\mathbf{X})^{-1}\\mathbf{X}^T\\mathbf{X}\\vec{\\beta}] + Var[(\\mathbf{X}^T\\mathbf{X})^{-1}\\mathbf{X}^T\\vec{\\epsilon}]$$\n",
    "\n",
    "$$= Var[\\mathbf{I}\\vec{\\beta}] + Var[(\\mathbf{X}^T\\mathbf{X})^{-1}\\mathbf{X}^T\\vec{\\epsilon}]$$\n",
    "\n",
    "$\\vec{\\beta}$ is a constant, thus $Var[\\mathbf{I}\\vec{\\beta}] = 0$\n",
    "\n",
    "$$Var[(\\mathbf{X}^T\\mathbf{X})^{-1}\\mathbf{X}^T\\vec{\\epsilon}] = (\\mathbf{X}^T\\mathbf{X})^{-1}\\mathbf{X}^T Var[\\vec{\\epsilon}] ((\\mathbf{X}^T\\mathbf{X})^{-1} \\mathbf{X}^T)^T$$\n",
    "\n",
    "Using that $Var[\\vec{\\epsilon}] = \\sigma^2 \\mathbf{I}$\n",
    "\n",
    "$$Var[(\\mathbf{X}^T\\mathbf{X})^{-1}\\mathbf{X}^T\\vec{\\epsilon}] = \\sigma^2 (\\mathbf{X}^T\\mathbf{X})^{-1}\\mathbf{X}^T ((\\mathbf{X}^T\\mathbf{X})^{-1}\\mathbf{X^T})^T$$\n",
    "\n",
    "$$= \\sigma^2 (\\mathbf{X}^T\\mathbf{X})^{-1}\\mathbf{X}^T (\\mathbf{X}^T)^T (\\mathbf{X}^T\\mathbf{X})^{-1}$$\n",
    "\n",
    "$$= \\sigma^2 (\\mathbf{X}^T\\mathbf{X})^{-1}\\mathbf{X}^T \\mathbf{X} (\\mathbf{X}^T\\mathbf{X})^{-1}$$\n",
    "\n",
    "$$= \\sigma^2 (\\mathbf{X}^T\\mathbf{X})^{-1}, \\square$$\n"
   ]
  }
 ],
 "metadata": {
  "kernelspec": {
   "display_name": "p1",
   "language": "python",
   "name": "python3"
  },
  "language_info": {
   "name": "python",
   "version": "3.12.5"
  }
 },
 "nbformat": 4,
 "nbformat_minor": 2
}
